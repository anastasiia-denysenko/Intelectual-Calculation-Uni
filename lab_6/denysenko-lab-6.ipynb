{
 "cells": [
  {
   "cell_type": "code",
   "execution_count": 1,
   "id": "dd621359",
   "metadata": {
    "_cell_guid": "b1076dfc-b9ad-4769-8c92-a6c4dae69d19",
    "_uuid": "8f2839f25d086af736a60e9eeb907d3b93b6e0e5",
    "execution": {
     "iopub.execute_input": "2025-05-23T19:44:57.906702Z",
     "iopub.status.busy": "2025-05-23T19:44:57.906475Z",
     "iopub.status.idle": "2025-05-23T19:45:11.688705Z",
     "shell.execute_reply": "2025-05-23T19:45:11.687906Z"
    },
    "papermill": {
     "duration": 13.787516,
     "end_time": "2025-05-23T19:45:11.690120",
     "exception": false,
     "start_time": "2025-05-23T19:44:57.902604",
     "status": "completed"
    },
    "tags": []
   },
   "outputs": [],
   "source": [
    "import numpy as np\n",
    "import torch.nn as nn\n",
    "import torch\n",
    "import torch.optim as optim\n",
    "from torchvision import datasets, transforms, models\n",
    "from torch.utils.data import DataLoader"
   ]
  },
  {
   "cell_type": "code",
   "execution_count": 2,
   "id": "a81a9b66",
   "metadata": {
    "execution": {
     "iopub.execute_input": "2025-05-23T19:45:11.695927Z",
     "iopub.status.busy": "2025-05-23T19:45:11.695631Z",
     "iopub.status.idle": "2025-05-23T19:45:11.698919Z",
     "shell.execute_reply": "2025-05-23T19:45:11.698280Z"
    },
    "papermill": {
     "duration": 0.007082,
     "end_time": "2025-05-23T19:45:11.699905",
     "exception": false,
     "start_time": "2025-05-23T19:45:11.692823",
     "status": "completed"
    },
    "tags": []
   },
   "outputs": [],
   "source": [
    "num_classes = 101"
   ]
  },
  {
   "cell_type": "code",
   "execution_count": 3,
   "id": "b1df6009",
   "metadata": {
    "execution": {
     "iopub.execute_input": "2025-05-23T19:45:11.704894Z",
     "iopub.status.busy": "2025-05-23T19:45:11.704690Z",
     "iopub.status.idle": "2025-05-23T19:45:11.708547Z",
     "shell.execute_reply": "2025-05-23T19:45:11.707901Z"
    },
    "papermill": {
     "duration": 0.007527,
     "end_time": "2025-05-23T19:45:11.709613",
     "exception": false,
     "start_time": "2025-05-23T19:45:11.702086",
     "status": "completed"
    },
    "tags": []
   },
   "outputs": [],
   "source": [
    "train_transforms = transforms.Compose([\n",
    "    transforms.Resize((256, 256)),\n",
    "    transforms.RandomCrop(224),\n",
    "    transforms.RandomHorizontalFlip(),\n",
    "    transforms.ToTensor(),\n",
    "    transforms.Normalize(mean=[0.485, 0.456, 0.406],\n",
    "                         std=[0.229, 0.224, 0.225]),\n",
    "])"
   ]
  },
  {
   "cell_type": "code",
   "execution_count": 4,
   "id": "a08a8785",
   "metadata": {
    "execution": {
     "iopub.execute_input": "2025-05-23T19:45:11.714841Z",
     "iopub.status.busy": "2025-05-23T19:45:11.714384Z",
     "iopub.status.idle": "2025-05-23T19:45:11.718231Z",
     "shell.execute_reply": "2025-05-23T19:45:11.717558Z"
    },
    "papermill": {
     "duration": 0.007585,
     "end_time": "2025-05-23T19:45:11.719373",
     "exception": false,
     "start_time": "2025-05-23T19:45:11.711788",
     "status": "completed"
    },
    "tags": []
   },
   "outputs": [],
   "source": [
    "val_transforms = transforms.Compose([\n",
    "    transforms.Resize((256, 256)),\n",
    "    transforms.CenterCrop(224),\n",
    "    transforms.ToTensor(),\n",
    "    transforms.Normalize(mean=[0.485, 0.456, 0.406],\n",
    "                         std=[0.229, 0.224, 0.225]),\n",
    "])"
   ]
  },
  {
   "cell_type": "code",
   "execution_count": 5,
   "id": "4d3549d4",
   "metadata": {
    "execution": {
     "iopub.execute_input": "2025-05-23T19:45:11.724646Z",
     "iopub.status.busy": "2025-05-23T19:45:11.724202Z",
     "iopub.status.idle": "2025-05-23T19:48:55.772563Z",
     "shell.execute_reply": "2025-05-23T19:48:55.771978Z"
    },
    "papermill": {
     "duration": 224.052354,
     "end_time": "2025-05-23T19:48:55.773965",
     "exception": false,
     "start_time": "2025-05-23T19:45:11.721611",
     "status": "completed"
    },
    "tags": []
   },
   "outputs": [
    {
     "name": "stderr",
     "output_type": "stream",
     "text": [
      "100%|██████████| 5.00G/5.00G [02:44<00:00, 30.4MB/s]\n"
     ]
    }
   ],
   "source": [
    "train_dataset = datasets.Food101(root=\"./data\", split=\"train\", transform=train_transforms, download=True)\n",
    "val_dataset = datasets.Food101(root=\"./data\", split=\"test\", transform=val_transforms, download=True)\n",
    "\n",
    "train_loader = DataLoader(train_dataset, batch_size=32, shuffle=True, num_workers=4, pin_memory=True)\n",
    "val_loader = DataLoader(val_dataset, batch_size=32, shuffle=False, num_workers=4, pin_memory=True)"
   ]
  },
  {
   "cell_type": "code",
   "execution_count": 6,
   "id": "e7a05499",
   "metadata": {
    "execution": {
     "iopub.execute_input": "2025-05-23T19:48:55.938022Z",
     "iopub.status.busy": "2025-05-23T19:48:55.937761Z",
     "iopub.status.idle": "2025-05-23T19:48:57.162581Z",
     "shell.execute_reply": "2025-05-23T19:48:57.161955Z"
    },
    "papermill": {
     "duration": 1.28401,
     "end_time": "2025-05-23T19:48:57.163887",
     "exception": false,
     "start_time": "2025-05-23T19:48:55.879877",
     "status": "completed"
    },
    "tags": []
   },
   "outputs": [
    {
     "name": "stderr",
     "output_type": "stream",
     "text": [
      "/usr/local/lib/python3.11/dist-packages/torchvision/models/_utils.py:208: UserWarning: The parameter 'pretrained' is deprecated since 0.13 and may be removed in the future, please use 'weights' instead.\n",
      "  warnings.warn(\n",
      "/usr/local/lib/python3.11/dist-packages/torchvision/models/_utils.py:223: UserWarning: Arguments other than a weight enum or `None` for 'weights' are deprecated since 0.13 and may be removed in the future. The current behavior is equivalent to passing `weights=ResNet50_Weights.IMAGENET1K_V1`. You can also use `weights=ResNet50_Weights.DEFAULT` to get the most up-to-date weights.\n",
      "  warnings.warn(msg)\n",
      "Downloading: \"https://download.pytorch.org/models/resnet50-0676ba61.pth\" to /root/.cache/torch/hub/checkpoints/resnet50-0676ba61.pth\n",
      "100%|██████████| 97.8M/97.8M [00:00<00:00, 184MB/s]\n"
     ]
    }
   ],
   "source": [
    "model = models.resnet50(pretrained=True)"
   ]
  },
  {
   "cell_type": "code",
   "execution_count": 7,
   "id": "962abb5e",
   "metadata": {
    "execution": {
     "iopub.execute_input": "2025-05-23T19:48:57.316934Z",
     "iopub.status.busy": "2025-05-23T19:48:57.316698Z",
     "iopub.status.idle": "2025-05-23T19:48:57.763893Z",
     "shell.execute_reply": "2025-05-23T19:48:57.763081Z"
    },
    "papermill": {
     "duration": 0.519021,
     "end_time": "2025-05-23T19:48:57.765358",
     "exception": false,
     "start_time": "2025-05-23T19:48:57.246337",
     "status": "completed"
    },
    "tags": []
   },
   "outputs": [],
   "source": [
    "if torch.cuda.is_available():\n",
    "    device = torch.device(\"cuda\")\n",
    "elif torch.mps.is_available():\n",
    "    device = torch.device(\"mps\")\n",
    "else:\n",
    "    device = torch.device(\"cpu\")\n",
    "model.fc = nn.Linear(model.fc.in_features, num_classes)\n",
    "model = model.to(device)"
   ]
  },
  {
   "cell_type": "code",
   "execution_count": 8,
   "id": "9908ebe5",
   "metadata": {
    "execution": {
     "iopub.execute_input": "2025-05-23T19:48:57.886112Z",
     "iopub.status.busy": "2025-05-23T19:48:57.885845Z",
     "iopub.status.idle": "2025-05-23T19:48:57.890176Z",
     "shell.execute_reply": "2025-05-23T19:48:57.889639Z"
    },
    "papermill": {
     "duration": 0.065494,
     "end_time": "2025-05-23T19:48:57.891257",
     "exception": false,
     "start_time": "2025-05-23T19:48:57.825763",
     "status": "completed"
    },
    "tags": []
   },
   "outputs": [],
   "source": [
    "criterion = nn.CrossEntropyLoss()\n",
    "optimizer = optim.Adam(model.parameters(), lr=1e-4)"
   ]
  },
  {
   "cell_type": "code",
   "execution_count": 9,
   "id": "3605c4ca",
   "metadata": {
    "execution": {
     "iopub.execute_input": "2025-05-23T19:48:58.007252Z",
     "iopub.status.busy": "2025-05-23T19:48:58.007017Z",
     "iopub.status.idle": "2025-05-23T19:48:58.011522Z",
     "shell.execute_reply": "2025-05-23T19:48:58.010999Z"
    },
    "papermill": {
     "duration": 0.063592,
     "end_time": "2025-05-23T19:48:58.012508",
     "exception": false,
     "start_time": "2025-05-23T19:48:57.948916",
     "status": "completed"
    },
    "tags": []
   },
   "outputs": [],
   "source": [
    "def train(model, loader, optimizer, criterion):\n",
    "    model.train()\n",
    "    total_loss, correct = 0, 0\n",
    "    for images, labels in loader:\n",
    "        images, labels = images.to(device), labels.to(device)\n",
    "\n",
    "        optimizer.zero_grad()\n",
    "        outputs = model(images)\n",
    "        loss = criterion(outputs, labels)\n",
    "        loss.backward()\n",
    "        optimizer.step()\n",
    "\n",
    "        total_loss += loss.item() * images.size(0)\n",
    "        correct += (outputs.argmax(1) == labels).sum().item()\n",
    "    \n",
    "    return total_loss / len(loader.dataset), correct / len(loader.dataset)"
   ]
  },
  {
   "cell_type": "code",
   "execution_count": 10,
   "id": "870425e8",
   "metadata": {
    "execution": {
     "iopub.execute_input": "2025-05-23T19:48:58.125147Z",
     "iopub.status.busy": "2025-05-23T19:48:58.124939Z",
     "iopub.status.idle": "2025-05-23T19:48:58.129350Z",
     "shell.execute_reply": "2025-05-23T19:48:58.128825Z"
    },
    "papermill": {
     "duration": 0.061428,
     "end_time": "2025-05-23T19:48:58.130362",
     "exception": false,
     "start_time": "2025-05-23T19:48:58.068934",
     "status": "completed"
    },
    "tags": []
   },
   "outputs": [],
   "source": [
    "def evaluate(model, loader, criterion):\n",
    "    model.eval()\n",
    "    total_loss, correct = 0, 0\n",
    "    with torch.no_grad():\n",
    "        for images, labels in loader:\n",
    "            images, labels = images.to(device), labels.to(device)\n",
    "            outputs = model(images)\n",
    "            loss = criterion(outputs, labels)\n",
    "\n",
    "            total_loss += loss.item() * images.size(0)\n",
    "            correct += (outputs.argmax(1) == labels).sum().item()\n",
    "    \n",
    "    return total_loss / len(loader.dataset), correct / len(loader.dataset)"
   ]
  },
  {
   "cell_type": "code",
   "execution_count": 11,
   "id": "ea3c65a8",
   "metadata": {
    "execution": {
     "iopub.execute_input": "2025-05-23T19:48:58.243741Z",
     "iopub.status.busy": "2025-05-23T19:48:58.243533Z",
     "iopub.status.idle": "2025-05-23T22:15:27.746674Z",
     "shell.execute_reply": "2025-05-23T22:15:27.745618Z"
    },
    "papermill": {
     "duration": 8789.61968,
     "end_time": "2025-05-23T22:15:27.806417",
     "exception": false,
     "start_time": "2025-05-23T19:48:58.186737",
     "status": "completed"
    },
    "tags": []
   },
   "outputs": [
    {
     "name": "stdout",
     "output_type": "stream",
     "text": [
      "Epoch 1:\n",
      "  Train Loss: 1.7042, Accuracy: 57.89%\n",
      "  Val   Loss: 0.9457, Accuracy: 73.89%\n",
      "Epoch 2:\n",
      "  Train Loss: 1.0740, Accuracy: 71.54%\n",
      "  Val   Loss: 0.8388, Accuracy: 76.75%\n",
      "Epoch 3:\n",
      "  Train Loss: 0.8913, Accuracy: 76.02%\n",
      "  Val   Loss: 0.7437, Accuracy: 79.56%\n",
      "Epoch 4:\n",
      "  Train Loss: 0.7785, Accuracy: 78.76%\n",
      "  Val   Loss: 0.7663, Accuracy: 78.95%\n",
      "Epoch 5:\n",
      "  Train Loss: 0.6859, Accuracy: 80.87%\n",
      "  Val   Loss: 0.7590, Accuracy: 79.10%\n",
      "Epoch 6:\n",
      "  Train Loss: 0.6137, Accuracy: 82.64%\n",
      "  Val   Loss: 0.7046, Accuracy: 80.95%\n",
      "Epoch 7:\n",
      "  Train Loss: 0.5541, Accuracy: 84.26%\n",
      "  Val   Loss: 0.7171, Accuracy: 80.72%\n",
      "Epoch 8:\n",
      "  Train Loss: 0.4944, Accuracy: 85.80%\n",
      "  Val   Loss: 0.7090, Accuracy: 81.13%\n",
      "Epoch 9:\n",
      "  Train Loss: 0.4570, Accuracy: 86.75%\n",
      "  Val   Loss: 0.7412, Accuracy: 80.52%\n",
      "Epoch 10:\n",
      "  Train Loss: 0.4110, Accuracy: 87.84%\n",
      "  Val   Loss: 0.7137, Accuracy: 81.74%\n"
     ]
    }
   ],
   "source": [
    "for epoch in range(10):\n",
    "    train_loss, train_acc = train(model, train_loader, optimizer, criterion)\n",
    "    val_loss, val_acc = evaluate(model, val_loader, criterion)\n",
    "    \n",
    "    print(f\"Epoch {epoch+1}:\")\n",
    "    print(f\"  Train Loss: {train_loss:.4f}, Accuracy: {train_acc*100:.2f}%\")\n",
    "    print(f\"  Val   Loss: {val_loss:.4f}, Accuracy: {val_acc*100:.2f}%\")"
   ]
  },
  {
   "cell_type": "code",
   "execution_count": 12,
   "id": "689559f9",
   "metadata": {
    "execution": {
     "iopub.execute_input": "2025-05-23T22:15:27.922483Z",
     "iopub.status.busy": "2025-05-23T22:15:27.922194Z",
     "iopub.status.idle": "2025-05-23T22:15:28.080083Z",
     "shell.execute_reply": "2025-05-23T22:15:28.079306Z"
    },
    "papermill": {
     "duration": 0.216669,
     "end_time": "2025-05-23T22:15:28.081581",
     "exception": false,
     "start_time": "2025-05-23T22:15:27.864912",
     "status": "completed"
    },
    "tags": []
   },
   "outputs": [],
   "source": [
    "torch.save(model.state_dict(), '/kaggle/working/Food101pred.pth')"
   ]
  },
  {
   "cell_type": "code",
   "execution_count": 13,
   "id": "de79f74b",
   "metadata": {
    "execution": {
     "iopub.execute_input": "2025-05-23T22:15:28.252312Z",
     "iopub.status.busy": "2025-05-23T22:15:28.251701Z",
     "iopub.status.idle": "2025-05-23T22:15:28.749003Z",
     "shell.execute_reply": "2025-05-23T22:15:28.748233Z"
    },
    "papermill": {
     "duration": 0.556485,
     "end_time": "2025-05-23T22:15:28.750462",
     "exception": false,
     "start_time": "2025-05-23T22:15:28.193977",
     "status": "completed"
    },
    "tags": []
   },
   "outputs": [
    {
     "data": {
      "text/plain": [
       "['Food101pred.pth']"
      ]
     },
     "execution_count": 13,
     "metadata": {},
     "output_type": "execute_result"
    }
   ],
   "source": [
    "import joblib\n",
    "file_name = 'Food101pred.pth' \n",
    "joblib.dump(model, file_name)"
   ]
  }
 ],
 "metadata": {
  "kaggle": {
   "accelerator": "nvidiaTeslaT4",
   "dataSources": [],
   "dockerImageVersionId": 31041,
   "isGpuEnabled": true,
   "isInternetEnabled": true,
   "language": "python",
   "sourceType": "notebook"
  },
  "kernelspec": {
   "display_name": "Python 3",
   "language": "python",
   "name": "python3"
  },
  "language_info": {
   "codemirror_mode": {
    "name": "ipython",
    "version": 3
   },
   "file_extension": ".py",
   "mimetype": "text/x-python",
   "name": "python",
   "nbconvert_exporter": "python",
   "pygments_lexer": "ipython3",
   "version": "3.11.11"
  },
  "papermill": {
   "default_parameters": {},
   "duration": 9040.146224,
   "end_time": "2025-05-23T22:15:32.298839",
   "environment_variables": {},
   "exception": null,
   "input_path": "__notebook__.ipynb",
   "output_path": "__notebook__.ipynb",
   "parameters": {},
   "start_time": "2025-05-23T19:44:52.152615",
   "version": "2.6.0"
  }
 },
 "nbformat": 4,
 "nbformat_minor": 5
}
